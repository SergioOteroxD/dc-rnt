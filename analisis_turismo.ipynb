{
 "cells": [
  {
   "cell_type": "markdown",
   "metadata": {},
   "source": [
    "# Análisis de Datos Turísticos\n",
    "Análisis y visualización de datos del Registro Nacional de Turismo"
   ]
  },
  {
   "cell_type": "code",
   "execution_count": 4,
   "metadata": {},
   "outputs": [],
   "source": [
    "import micropip\n",
    "\n",
    "await micropip.install('ipywidgets')\n",
    "import pandas as pd\n",
    "import matplotlib.pyplot as plt\n",
    "import seaborn as sns\n",
    "\n",
    "# Set style for better visualizations\n",
    "plt.style.use('seaborn-v0_8')\n",
    "sns.set_palette('husl')"
   ]
  },
  {
   "cell_type": "code",
   "execution_count": 5,
   "metadata": {},
   "outputs": [],
   "source": [
    "def leer_negocios(archivo_csv):\n",
    "    try:\n",
    "        df = pd.read_csv(archivo_csv, low_memory=False)\n",
    "        return df\n",
    "    except Exception as e:\n",
    "        print(f\"Error al leer el archivo: {str(e)}\")\n",
    "        return None\n",
    "\n",
    "# Load the data\n",
    "archivo_csv = \"./Registro_Nacional_de_Turismo_-_RNT_20250328.csv\"\n",
    "df = leer_negocios(archivo_csv)"
   ]
  },
  {
   "cell_type": "code",
   "execution_count": 6,
   "metadata": {},
   "outputs": [],
   "source": [
    "def filtrar_datos(df, departamento=None, municipio=None, categorias=None, sub_categoria=None):\n",
    "    df_filtrado = df.copy()\n",
    "    \n",
    "    if departamento:\n",
    "        df_filtrado = df_filtrado[df_filtrado['DEPARTAMENTO'].str.upper() == departamento.upper()]\n",
    "    \n",
    "    if municipio:\n",
    "        df_filtrado = df_filtrado[df_filtrado['MUNICIPIO'].str.upper() == municipio.upper()]\n",
    "    \n",
    "    if categorias:\n",
    "        df_filtrado = df_filtrado[df_filtrado['CATEGORIA'].str.upper().isin([cat.upper() for cat in categorias])]\n",
    "    if sub_categoria:\n",
    "        df_filtrado = df_filtrado[df_filtrado['CATEGORIA'].str.upper().isin([cat.upper() for cat in categorias])]\n",
    "    \n",
    "    return df_filtrado"
   ]
  },
  {
   "cell_type": "code",
   "execution_count": 13,
   "metadata": {},
   "outputs": [
    {
     "data": {
      "application/vnd.jupyter.widget-view+json": {
       "model_id": "addfd27cb265432ca4261eacd9c88a30",
       "version_major": 2,
       "version_minor": 0
      },
      "text/plain": [
       "interactive(children=(Dropdown(description='Departamento:', options=('', 'AMAZONAS', 'ANTIOQUIA', 'ARAUCA', 'A…"
      ]
     },
     "metadata": {},
     "output_type": "display_data"
    }
   ],
   "source": [
    "# Interactive filters\n",
    "from ipywidgets import interact, widgets\n",
    "\n",
    "departamentos = sorted(df['DEPARTAMENTO'].unique())\n",
    "categorias = sorted(df['CATEGORIA'].unique())\n",
    "# municipio = sorted(df['MUNICIPIO'].unique())\n",
    "sub_categoria = sorted(df['SUB_CATEGORIA'].unique())\n",
    "\n",
    "# Filter for accommodation establishments\n",
    "df = df[df['CATEGORIA'] == 'ESTABLECIMIENTOS DE ALOJAMIENTO TURÍSTICO']\n",
    "@interact\n",
    "def actualizar_filtros(departamento=widgets.Dropdown(options=[''] + list(departamentos), description='Departamento:'),\n",
    "                       categoria=widgets.Dropdown(options=[''] + list(categorias), description='Categoría:'),\n",
    "                      sub_categoria=widgets.Dropdown(options=[''] + list(sub_categoria), description='Sub Categoría:')\n",
    "                      ):\n",
    "    municipio = sorted(df[df['DEPARTAMENTO'] == departamento]['MUNICIPIO'].unique())\n",
    "    @interact\n",
    "    def update_municipality(municipio=widgets.Dropdown(options=municipio,\n",
    "                                                     description='Municipality:',\n",
    "                                                     style={'description_width': 'initial'})):\n",
    "    \n",
    "    # Filter data\n",
    "        filtered_df = filtrar_datos(df,departamento if departamento else None,municipio if municipio else None,[categoria] if categoria else None)\n",
    "        \n",
    "        # Display basic statistics\n",
    "        print(f\"Total establecimientos: {len(filtered_df)}\")\n",
    "        \n",
    "        # Create visualizations\n",
    "        fig, (ax1, ax2) = plt.subplots(1, 2, figsize=(15, 5))\n",
    "        \n",
    "        # Plot 1: Top 10 municipalities\n",
    "        municipios_count = filtered_df['MUNICIPIO'].value_counts().head(10)\n",
    "        municipios_count.plot(kind='bar', ax=ax1)\n",
    "        ax1.set_title('Top 10 Municipios')\n",
    "        ax1.tick_params(axis='x', rotation=45)\n",
    "        \n",
    "        # Plot 2: Categories distribution\n",
    "        categorias_count = filtered_df['SUB_CATEGORIA'].value_counts().head(10)\n",
    "        categorias_count.plot(kind='bar', ax=ax2)\n",
    "        ax2.set_title('Top 10 Sub-Categorías')\n",
    "        ax2.tick_params(axis='x', rotation=45)\n",
    "        \n",
    "        plt.tight_layout()\n",
    "        plt.show()\n",
    "        \n",
    "        # Display detailed information\n",
    "        return filtered_df[['RAZON_SOCIAL_ESTABLECIMIENTO', 'DEPARTAMENTO', 'MUNICIPIO', \n",
    "                        'CATEGORIA', 'SUB_CATEGORIA', 'HABITACIONES', 'CAMAS', 'CORREO_ESTABLECIMIENTO']]"
   ]
  },
  {
   "cell_type": "code",
   "execution_count": 8,
   "metadata": {},
   "outputs": [
    {
     "data": {
      "application/vnd.jupyter.widget-view+json": {
       "model_id": "5c57123b2f9c479d9492992d6cee14b0",
       "version_major": 2,
       "version_minor": 0
      },
      "text/plain": [
       "interactive(children=(Dropdown(description='Department:', options=('AMAZONAS', 'ANTIOQUIA', 'ARAUCA', 'ATLANTI…"
      ]
     },
     "metadata": {},
     "output_type": "display_data"
    },
    {
     "data": {
      "text/plain": [
       "<function __main__.analizar_hoteles_municipio(departamento)>"
      ]
     },
     "execution_count": 8,
     "metadata": {},
     "output_type": "execute_result"
    }
   ],
   "source": [
    "def analizar_hoteles_municipio(departamento):\n",
    "    # Filter by department\n",
    "    df_dept = df[df['DEPARTAMENTO'] == departamento]\n",
    "    \n",
    "    # Count establishments by municipality\n",
    "    hoteles_por_municipio = df_dept.groupby('MUNICIPIO').size().reset_index(name='NUMERO_HOTELES')\n",
    "    \n",
    "    # Sort by number of hotels descending\n",
    "    hoteles_por_municipio = hoteles_por_municipio.sort_values('NUMERO_HOTELES', ascending=False)\n",
    "    \n",
    "    # Create figure\n",
    "    plt.figure(figsize=(15, 8))\n",
    "    \n",
    "    # Create bar plot\n",
    "    sns.barplot(data=hoteles_por_municipio, \n",
    "                x='MUNICIPIO', \n",
    "                y='NUMERO_HOTELES',\n",
    "                color='coral')\n",
    "    \n",
    "    plt.title(f'Number of Hotels by Municipality in {departamento}')\n",
    "    plt.xticks(rotation=45, ha='right')\n",
    "    plt.ylabel('Number of Hotels')\n",
    "    plt.xlabel('Municipality')\n",
    "    \n",
    "    plt.tight_layout()\n",
    "    plt.show()\n",
    "    \n",
    "    # Print summary statistics\n",
    "    print(\"\\nSummary Statistics:\")\n",
    "    print(f\"Total Municipalities: {len(hoteles_por_municipio)}\")\n",
    "    print(f\"Total Hotels: {hoteles_por_municipio['NUMERO_HOTELES'].sum():,.0f}\")\n",
    "    print(\"\\nTop 5 Municipalities by Number of Hotels:\")\n",
    "    print(hoteles_por_municipio.head().to_string(index=False))\n",
    "    \n",
    "    return hoteles_por_municipio\n",
    "\n",
    "# Create interactive widget\n",
    "\n",
    "departamentos = sorted(df['DEPARTAMENTO'].unique())\n",
    "interact(analizar_hoteles_municipio, \n",
    "         departamento=widgets.Dropdown(options=departamentos, \n",
    "                                     description='Department:',\n",
    "                                     style={'description_width': 'initial'}))"
   ]
  },
  {
   "cell_type": "code",
   "execution_count": 9,
   "metadata": {},
   "outputs": [
    {
     "data": {
      "application/vnd.jupyter.widget-view+json": {
       "model_id": "0a2cc0a2c7bf49c8891256a0749440c4",
       "version_major": 2,
       "version_minor": 0
      },
      "text/plain": [
       "interactive(children=(Dropdown(description='Department:', options=('AMAZONAS', 'ANTIOQUIA', 'ARAUCA', 'ATLANTI…"
      ]
     },
     "metadata": {},
     "output_type": "display_data"
    },
    {
     "data": {
      "text/plain": [
       "<function __main__.analizar_departamento(departamento)>"
      ]
     },
     "execution_count": 9,
     "metadata": {},
     "output_type": "execute_result"
    }
   ],
   "source": [
    "df['HABITACIONES'] = pd.to_numeric(df['HABITACIONES'], errors='coerce')\n",
    "df['CAMAS'] = pd.to_numeric(df['CAMAS'], errors='coerce')\n",
    "def analizar_departamento(departamento):\n",
    "    # Filter by department\n",
    "    df_dept = df[df['DEPARTAMENTO'] == departamento]\n",
    "    \n",
    "    # Group by municipality and calculate totals\n",
    "    municipios_stats = df_dept.groupby('MUNICIPIO').agg({\n",
    "        'HABITACIONES': 'sum',\n",
    "        'CAMAS': 'sum'\n",
    "    }).reset_index()\n",
    "    \n",
    "    # Create subplots\n",
    "    fig, (ax1, ax2) = plt.subplots(2, 1, figsize=(15, 12))\n",
    "    \n",
    "    # Plot 1: Rooms by Municipality\n",
    "    sns.barplot(data=municipios_stats, x='MUNICIPIO', y='HABITACIONES', ax=ax1, color='skyblue')\n",
    "    ax1.set_title(f'Total Rooms by Municipality in {departamento}')\n",
    "    ax1.tick_params(axis='x', rotation=45)\n",
    "    ax1.set_ylabel('Number of Rooms')\n",
    "    \n",
    "    # Plot 2: Beds by Municipality\n",
    "    sns.barplot(data=municipios_stats, x='MUNICIPIO', y='CAMAS', ax=ax2, color='lightgreen')\n",
    "    ax2.set_title(f'Total Beds by Municipality in {departamento}')\n",
    "    ax2.tick_params(axis='x', rotation=45)\n",
    "    ax2.set_ylabel('Number of Beds')\n",
    "    \n",
    "    plt.tight_layout()\n",
    "    plt.show()\n",
    "    \n",
    "    # Print summary statistics\n",
    "    print(\"\\nSummary Statistics:\")\n",
    "    print(f\"Total Municipalities: {len(municipios_stats)}\")\n",
    "    print(f\"Total Rooms: {municipios_stats['HABITACIONES'].sum():,.0f}\")\n",
    "    print(f\"Total Beds: {municipios_stats['CAMAS'].sum():,.0f}\")\n",
    "    \n",
    "    return municipios_stats\n",
    "\n",
    "\n",
    "departamentos = sorted(df['DEPARTAMENTO'].unique())\n",
    "interact(analizar_departamento, \n",
    "         departamento=widgets.Dropdown(options=departamentos, \n",
    "                                     description='Department:',\n",
    "                                     style={'description_width': 'initial'}))"
   ]
  },
  {
   "cell_type": "code",
   "execution_count": null,
   "metadata": {},
   "outputs": [
    {
     "data": {
      "application/vnd.jupyter.widget-view+json": {
       "model_id": "880cc625320a4458b6136f09e55a359a",
       "version_major": 2,
       "version_minor": 0
      },
      "text/plain": [
       "interactive(children=(Dropdown(description='Department:', options=('AMAZONAS', 'ANTIOQUIA', 'ARAUCA', 'ATLANTI…"
      ]
     },
     "metadata": {},
     "output_type": "display_data"
    }
   ],
   "source": [
    "def analizar_hoteles_detallado(departamento, municipio, min_rooms=0, max_rooms=1000):\n",
    "    # Filter by department and municipality\n",
    "    df_local = df[(df['DEPARTAMENTO'] == departamento) & \n",
    "                  (df['MUNICIPIO'] == municipio)]\n",
    "    \n",
    "    # Additional filter for room range\n",
    "    df_local = df_local[(df_local['HABITACIONES'] >= min_rooms) & \n",
    "                        (df_local['HABITACIONES'] <= max_rooms)]\n",
    "    \n",
    "    if len(df_local) == 0:\n",
    "        print(f\"No hotels found in {municipio}, {departamento} with {min_rooms}-{max_rooms} rooms\")\n",
    "        return\n",
    "    \n",
    "    # Create figure with subplots\n",
    "    fig, (ax1, ax2) = plt.subplots(2, 1, figsize=(15, 12))\n",
    "    \n",
    "    # Sort by number of rooms\n",
    "    df_sorted_rooms = df_local.sort_values('HABITACIONES', ascending=True)\n",
    "    \n",
    "    # Plot 1: Rooms by Hotel\n",
    "    sns.barplot(data=df_sorted_rooms, \n",
    "                y='RAZON_SOCIAL_ESTABLECIMIENTO', \n",
    "                x='HABITACIONES',\n",
    "                ax=ax1,\n",
    "                color='skyblue')\n",
    "    ax1.set_title(f'Hotels with {min_rooms}-{max_rooms} Rooms in {municipio}, {departamento}')\n",
    "    ax1.set_xlabel('Number of Rooms')\n",
    "    ax1.set_ylabel('Hotel Name')\n",
    "    \n",
    "    # Plot 2: Beds by Hotel\n",
    "    sns.barplot(data=df_sorted_rooms, \n",
    "                y='RAZON_SOCIAL_ESTABLECIMIENTO', \n",
    "                x='CAMAS',\n",
    "                ax=ax2,\n",
    "                color='lightgreen')\n",
    "    ax2.set_title(f'Number of Beds (Hotels with {min_rooms}-{max_rooms} Rooms)')\n",
    "    ax2.set_xlabel('Number of Beds')\n",
    "    ax2.set_ylabel('Hotel Name')\n",
    "    \n",
    "    plt.tight_layout()\n",
    "    plt.show()\n",
    "    \n",
    "    # Print detailed statistics\n",
    "    print(\"\\nDetailed Statistics:\")\n",
    "    print(f\"Hotels in range {min_rooms}-{max_rooms} rooms: {len(df_local)}\")\n",
    "    print(f\"Total Rooms: {df_local['HABITACIONES'].sum():,.0f}\")\n",
    "    print(f\"Total Beds: {df_local['CAMAS'].sum():,.0f}\")\n",
    "    print(f\"Average Rooms per Hotel: {df_local['HABITACIONES'].mean():,.1f}\")\n",
    "    print(f\"Average Beds per Hotel: {df_local['CAMAS'].mean():,.1f}\")\n",
    "    \n",
    "    print(\"\\nHotel Details:\")\n",
    "    hotel_details = df_local[['RAZON_SOCIAL_ESTABLECIMIENTO', 'HABITACIONES', 'CAMAS', 'NUM_EMP']]\n",
    "    print(hotel_details.to_string(index=False))\n",
    "\n",
    "\n",
    "departamentos = sorted(df['DEPARTAMENTO'].unique())\n",
    "\n",
    "@interact\n",
    "def select_location(departamento=widgets.Dropdown(options=departamentos, \n",
    "                                                  description='Department:', \n",
    "                                                  style={'description_width': 'initial'})\n",
    "                    ):\n",
    "    municipios = sorted(df[df['DEPARTAMENTO'] == departamento]['MUNICIPIO'].unique())\n",
    "    \n",
    "    @interact\n",
    "    def update_municipality(municipio=widgets.Dropdown(options=municipios,\n",
    "                                                     description='Municipality:',\n",
    "                                                     style={'description_width': 'initial'}),\n",
    "                          min_rooms=widgets.IntSlider(min=0, max=100, step=1, value=0,\n",
    "                                                    description='Min Rooms:'),\n",
    "                          max_rooms=widgets.IntSlider(min=0, max=100, step=1, value=50,\n",
    "                                                    description='Max Rooms:')):\n",
    "        analizar_hoteles_detallado(departamento, municipio, min_rooms, max_rooms)"
   ]
  },
  {
   "cell_type": "code",
   "execution_count": null,
   "metadata": {},
   "outputs": [],
   "source": []
  }
 ],
 "metadata": {
  "kernelspec": {
   "display_name": "Python 3",
   "language": "python",
   "name": "python3"
  },
  "language_info": {
   "codemirror_mode": {
    "name": "ipython",
    "version": 3
   },
   "file_extension": ".py",
   "mimetype": "text/x-python",
   "name": "python",
   "nbconvert_exporter": "python",
   "pygments_lexer": "ipython3",
   "version": "3.13.3"
  }
 },
 "nbformat": 4,
 "nbformat_minor": 4
}
